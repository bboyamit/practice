{
 "cells": [
  {
   "cell_type": "markdown",
   "metadata": {},
   "source": [
    "### Inheritence\n",
    "\n",
    "The child class can inherit the parent class's data but parent class cannot inherit child's class data"
   ]
  },
  {
   "cell_type": "code",
   "execution_count": 6,
   "metadata": {},
   "outputs": [
    {
     "name": "stdout",
     "output_type": "stream",
     "text": [
      "200\n",
      "4\n",
      "Car is used for driving\n",
      "Audi Q7 is a self driving car\n"
     ]
    }
   ],
   "source": [
    "class Car:\n",
    "    def __init__(self,windows,doors,engine_type):\n",
    "        self.windows=windows\n",
    "        self.doors=doors\n",
    "        self.engine_type=engine_type\n",
    "\n",
    "\n",
    "    def driving(self):\n",
    "        print('Car is used for driving')\n",
    "\n",
    "# Audi() is inheriting from Car class\n",
    "class Audi(Car):\n",
    "    def __init__(self,windows,doors,engine_type,horsepower):\n",
    "        super().__init__(windows, doors, engine_type) # Since we have dfined it in parent class, we can call that using ths syntax\n",
    "        self.horsepower=horsepower # since it is not defined in parent class, we need to define it\n",
    "    def self_driving(self):\n",
    "        print('Audi Q7 is a self driving car')\n",
    "\n",
    "audiq7=Audi(4,5,'Diesel',200)\n",
    "\n",
    "print(audiq7.horsepower)\n",
    "print(audiq7.windows)\n",
    "audiq7.driving()\n",
    "audiq7.self_driving()\n"
   ]
  },
  {
   "cell_type": "code",
   "execution_count": 7,
   "metadata": {},
   "outputs": [
    {
     "name": "stdout",
     "output_type": "stream",
     "text": [
      "<__main__.Car object at 0x00000247535C5690>\n",
      "<__main__.Audi object at 0x0000024753B6B490>\n"
     ]
    }
   ],
   "source": [
    "car1=Car(4,5,'Diesel')\n",
    "print(car1) # Car Object\n",
    "print(audiq7)  # Audit Object"
   ]
  },
  {
   "cell_type": "code",
   "execution_count": 8,
   "metadata": {},
   "outputs": [
    {
     "name": "stdout",
     "output_type": "stream",
     "text": [
      "['__class__', '__delattr__', '__dict__', '__dir__', '__doc__', '__eq__', '__format__', '__ge__', '__getattribute__', '__getstate__', '__gt__', '__hash__', '__init__', '__init_subclass__', '__le__', '__lt__', '__module__', '__ne__', '__new__', '__reduce__', '__reduce_ex__', '__repr__', '__setattr__', '__sizeof__', '__str__', '__subclasshook__', '__weakref__', 'doors', 'driving', 'engine_type', 'horsepower', 'self_driving', 'windows']\n"
     ]
    }
   ],
   "source": [
    "print(dir(audiq7))"
   ]
  },
  {
   "cell_type": "code",
   "execution_count": 9,
   "metadata": {},
   "outputs": [
    {
     "name": "stdout",
     "output_type": "stream",
     "text": [
      "['__class__', '__delattr__', '__dict__', '__dir__', '__doc__', '__eq__', '__format__', '__ge__', '__getattribute__', '__getstate__', '__gt__', '__hash__', '__init__', '__init_subclass__', '__le__', '__lt__', '__module__', '__ne__', '__new__', '__reduce__', '__reduce_ex__', '__repr__', '__setattr__', '__sizeof__', '__str__', '__subclasshook__', '__weakref__', 'doors', 'driving', 'engine_type', 'windows']\n"
     ]
    }
   ],
   "source": [
    "print(dir(car1))"
   ]
  },
  {
   "cell_type": "code",
   "execution_count": null,
   "metadata": {},
   "outputs": [],
   "source": []
  }
 ],
 "metadata": {
  "kernelspec": {
   "display_name": "Python 3",
   "language": "python",
   "name": "python3"
  },
  "language_info": {
   "codemirror_mode": {
    "name": "ipython",
    "version": 3
   },
   "file_extension": ".py",
   "mimetype": "text/x-python",
   "name": "python",
   "nbconvert_exporter": "python",
   "pygments_lexer": "ipython3",
   "version": "3.11.4"
  }
 },
 "nbformat": 4,
 "nbformat_minor": 2
}
