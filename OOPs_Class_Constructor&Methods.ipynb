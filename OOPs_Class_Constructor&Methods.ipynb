{
 "cells": [
  {
   "cell_type": "markdown",
   "metadata": {},
   "source": [
    "### Classes , Constructor, Attributes and Methods\n",
    "\n",
    "Classes: Real world entity or object eg: Car\n",
    "Attributes: properties of the class eg:  Car windows, doors\n"
   ]
  },
  {
   "cell_type": "code",
   "execution_count": 4,
   "metadata": {},
   "outputs": [
    {
     "name": "stdout",
     "output_type": "stream",
     "text": [
      "Diesel\n",
      "Petrol\n"
     ]
    }
   ],
   "source": [
    "# Bad practice of writing class however it's a basic to understand it.\n",
    "class car:\n",
    "    pass\n",
    "\n",
    "car1 = car()\n",
    "car2 = car()\n",
    "\n",
    "car1.windows=4\n",
    "car1.tyres=4\n",
    "car1.engine='Diesel'\n",
    "\n",
    "car2.windows=6\n",
    "car2.tyres=6\n",
    "car2.engine='Petrol'\n",
    "\n",
    "print(car1.engine)\n",
    "print(car2.engine)"
   ]
  },
  {
   "cell_type": "code",
   "execution_count": 6,
   "metadata": {},
   "outputs": [
    {
     "name": "stdout",
     "output_type": "stream",
     "text": [
      "['__class__', '__delattr__', '__dict__', '__dir__', '__doc__', '__eq__', '__format__', '__ge__', '__getattribute__', '__getstate__', '__gt__', '__hash__', '__init__', '__init_subclass__', '__le__', '__lt__', '__module__', '__ne__', '__new__', '__reduce__', '__reduce_ex__', '__repr__', '__setattr__', '__sizeof__', '__str__', '__subclasshook__', '__weakref__', 'engine', 'tyres', 'windows']\n"
     ]
    }
   ],
   "source": [
    "\n",
    "print(dir(car1))"
   ]
  },
  {
   "cell_type": "code",
   "execution_count": 13,
   "metadata": {},
   "outputs": [
    {
     "name": "stdout",
     "output_type": "stream",
     "text": [
      "The number of tyres in object car1 is 4\n",
      "The car type is Petrol engine.\n"
     ]
    }
   ],
   "source": [
    "# Good practice of class\n",
    "# Class\n",
    "class Car:\n",
    "    # Constructor, it assigns the values to parameters\n",
    "    def __init__(self,windows,tyres,engine):\n",
    "        self.windows=windows\n",
    "        self.tyres=tyres\n",
    "        self.engine=engine\n",
    "\n",
    "    def self_driving(self):\n",
    "        print('The car type is {} engine.'.format(self.engine))\n",
    "\n",
    "\n",
    "car1 = Car(4,4,'Petrol')\n",
    "\n",
    "print('The number of tyres in object car1 is {}'.format(car1.tyres))\n",
    "car1.self_driving()"
   ]
  },
  {
   "cell_type": "code",
   "execution_count": 17,
   "metadata": {},
   "outputs": [
    {
     "name": "stdout",
     "output_type": "stream",
     "text": [
      "The number of tyres in object car1 is 4\n",
      "The car type is electric engine.\n"
     ]
    }
   ],
   "source": [
    "# Good practice of class\n",
    "# Class\n",
    "class Car:\n",
    "    # Constructor, it assigns the values to parameters\n",
    "    def __init__(self,windows,tyres,engine):\n",
    "        self.windows=windows\n",
    "        self.tyres=tyres\n",
    "        self.engine=engine\n",
    "\n",
    "    def self_driving(self,engine): # gave second parameter to enter engine name\n",
    "        print('The car type is {} engine.'.format(engine)) # called second paramter engine name\n",
    "\n",
    "\n",
    "car1 = Car(4,4,'Petrol')\n",
    "\n",
    "print('The number of tyres in object car1 is {}'.format(car1.tyres))\n",
    "car1.self_driving('electric')"
   ]
  },
  {
   "cell_type": "code",
   "execution_count": null,
   "metadata": {},
   "outputs": [],
   "source": []
  }
 ],
 "metadata": {
  "kernelspec": {
   "display_name": "Python 3",
   "language": "python",
   "name": "python3"
  },
  "language_info": {
   "codemirror_mode": {
    "name": "ipython",
    "version": 3
   },
   "file_extension": ".py",
   "mimetype": "text/x-python",
   "name": "python",
   "nbconvert_exporter": "python",
   "pygments_lexer": "ipython3",
   "version": "3.11.4"
  }
 },
 "nbformat": 4,
 "nbformat_minor": 2
}
