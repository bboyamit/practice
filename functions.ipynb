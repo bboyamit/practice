{
 "cells": [
  {
   "cell_type": "markdown",
   "metadata": {},
   "source": [
    "### why functions?(Interview Question)\n",
    "1. to make code more readable\n",
    "2. to make code more efficient\n",
    "3. to make code more maintainable\n",
    "4. to make code more reusable\n",
    "5. to make code more extensible"
   ]
  },
  {
   "cell_type": "code",
   "execution_count": 2,
   "metadata": {},
   "outputs": [
    {
     "name": "stdout",
     "output_type": "stream",
     "text": [
      "Welcome\n"
     ]
    }
   ],
   "source": [
    "def welcome():\n",
    "    print('Welcome')\n",
    "\n",
    "welcome()"
   ]
  },
  {
   "cell_type": "code",
   "execution_count": 12,
   "metadata": {},
   "outputs": [],
   "source": [
    "def welcome(msg)->str:\n",
    "    '''\n",
    "    Description: This funtion will print welcome msg\n",
    "\n",
    "    Return: it will return welcome msg    \n",
    "    '''\n",
    "    return msg\n"
   ]
  },
  {
   "cell_type": "code",
   "execution_count": 19,
   "metadata": {},
   "outputs": [
    {
     "data": {
      "text/plain": [
       "'Welcome All, How are you?'"
      ]
     },
     "execution_count": 19,
     "metadata": {},
     "output_type": "execute_result"
    }
   ],
   "source": [
    "msg = welcome('Welcome All')\n",
    "msg + ', How are you?'"
   ]
  },
  {
   "cell_type": "markdown",
   "metadata": {},
   "source": [
    "### Function to add even and odd number"
   ]
  },
  {
   "cell_type": "code",
   "execution_count": 24,
   "metadata": {},
   "outputs": [
    {
     "name": "stdout",
     "output_type": "stream",
     "text": [
      "654 80\n"
     ]
    }
   ],
   "source": [
    "def even_odd_sum(lst):\n",
    "    '''\n",
    "    Description: This function will add even and odd number in a list\n",
    "\n",
    "    Return: This funtion will return the sum of even and odd number in a list\n",
    "    '''\n",
    "\n",
    "    even_sum =0\n",
    "    odd_sum =0\n",
    "    for i in lst:\n",
    "        if i%2==0:\n",
    "            even_sum+=i\n",
    "        else:\n",
    "            odd_sum+=i\n",
    "    return even_sum, odd_sum\n",
    "\n",
    "sum1, sum2= even_odd_sum([1,2,3,4,5,6,7,8,9,1,0,1,4,45,4,5,626,3])\n",
    "\n",
    "print(sum1, sum2)\n"
   ]
  },
  {
   "cell_type": "markdown",
   "metadata": {},
   "source": [
    "### positional and keyword argument"
   ]
  },
  {
   "cell_type": "code",
   "execution_count": 29,
   "metadata": {},
   "outputs": [
    {
     "name": "stdout",
     "output_type": "stream",
     "text": [
      "Hello Amit you are 30 years old\n"
     ]
    }
   ],
   "source": [
    "# Positional argument\n",
    "\n",
    "def hello(name, age):\n",
    "    print('Hello '+name+' you are '+ str(age)+' years old')\n",
    "\n",
    "hello('Amit',30)"
   ]
  },
  {
   "cell_type": "code",
   "execution_count": 30,
   "metadata": {},
   "outputs": [
    {
     "name": "stdout",
     "output_type": "stream",
     "text": [
      "Hello Amit you are 30 years old\n"
     ]
    }
   ],
   "source": [
    "# Keyword argument\n",
    "# In keyword argument we give a default value however we can still enter a value while running the function.\n",
    "# If no value entered, it will return the default given value\n",
    "\n",
    "def hi(name, age=30):\n",
    "    print('Hello '+name+' you are '+ str(age)+' years old')\n",
    "\n",
    "hi('Amit')"
   ]
  },
  {
   "cell_type": "code",
   "execution_count": 31,
   "metadata": {},
   "outputs": [
    {
     "name": "stdout",
     "output_type": "stream",
     "text": [
      "Hello Amit you are 31 years old\n"
     ]
    }
   ],
   "source": [
    "hi('Amit',31)"
   ]
  },
  {
   "cell_type": "code",
   "execution_count": 32,
   "metadata": {},
   "outputs": [
    {
     "name": "stdout",
     "output_type": "stream",
     "text": [
      "('Amit', 'Kumar')\n",
      "{'age': 32, 'dob': 1993}\n"
     ]
    }
   ],
   "source": [
    "def hey(*args,**kwargs):\n",
    "    print(args)\n",
    "    print(kwargs)\n",
    "\n",
    "\n",
    "hey('Amit','Kumar', age=32,dob=1993)"
   ]
  },
  {
   "cell_type": "code",
   "execution_count": 33,
   "metadata": {},
   "outputs": [
    {
     "name": "stdout",
     "output_type": "stream",
     "text": [
      "(['Amit', 'Kumar'], {'age': 32, 'dob': 1993})\n",
      "{}\n"
     ]
    }
   ],
   "source": [
    "# It will print postional arguments only\n",
    "\n",
    "lst = list(('Amit', 'Kumar'))\n",
    "dict_val= {'age': 32, 'dob': 1993}\n",
    "\n",
    "hey(lst,dict_val)"
   ]
  },
  {
   "cell_type": "code",
   "execution_count": 34,
   "metadata": {},
   "outputs": [
    {
     "name": "stdout",
     "output_type": "stream",
     "text": [
      "('Amit', 'Kumar')\n",
      "{'age': 32, 'dob': 1993}\n"
     ]
    }
   ],
   "source": [
    "# We can change it positional arguments and keyword arguments with * and **\n",
    "\n",
    "hey(*lst,**dict_val)"
   ]
  },
  {
   "cell_type": "code",
   "execution_count": 36,
   "metadata": {},
   "outputs": [
    {
     "name": "stdout",
     "output_type": "stream",
     "text": [
      "('Amit', 15)\n",
      "{}\n"
     ]
    }
   ],
   "source": [
    "hey('Amit',15)"
   ]
  },
  {
   "cell_type": "code",
   "execution_count": null,
   "metadata": {},
   "outputs": [],
   "source": []
  }
 ],
 "metadata": {
  "kernelspec": {
   "display_name": "Python 3",
   "language": "python",
   "name": "python3"
  },
  "language_info": {
   "codemirror_mode": {
    "name": "ipython",
    "version": 3
   },
   "file_extension": ".py",
   "mimetype": "text/x-python",
   "name": "python",
   "nbconvert_exporter": "python",
   "pygments_lexer": "ipython3",
   "version": "3.11.4"
  }
 },
 "nbformat": 4,
 "nbformat_minor": 2
}
