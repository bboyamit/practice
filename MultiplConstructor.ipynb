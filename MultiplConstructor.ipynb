{
 "cells": [
  {
   "cell_type": "markdown",
   "metadata": {},
   "source": [
    "### Multiple constructor in class (**def __init__():**)"
   ]
  },
  {
   "cell_type": "code",
   "execution_count": 1,
   "metadata": {},
   "outputs": [],
   "source": [
    "class Animal:\n",
    "    def __init__(self, name, species):\n",
    "        self.name=name\n",
    "        self.species=species\n",
    "\n",
    "    def __init__(self,name,species,age):\n",
    "        self.name=name\n",
    "        self.species=species\n",
    "        self.age=age\n",
    "\n",
    "    def make_sound(self,sound):\n",
    "        return 'The animal is {} and says {}'.format(self.name,sound)\n",
    "    "
   ]
  },
  {
   "cell_type": "code",
   "execution_count": 5,
   "metadata": {},
   "outputs": [
    {
     "name": "stdout",
     "output_type": "stream",
     "text": [
      "<__main__.Animal object at 0x00000292A071A8D0>\n"
     ]
    }
   ],
   "source": [
    "## The second constructor def __init__(self,name,species,age): is overriding the first cnstructor.\n",
    "# This is why we need to enter age parameter as well\n",
    "\n",
    "dog = Animal('dog',\"mammal\",10)\n",
    "print(dog)"
   ]
  },
  {
   "cell_type": "code",
   "execution_count": 17,
   "metadata": {},
   "outputs": [],
   "source": [
    "# Hack to make class with single attribut but we will have to use multiple conditions\n",
    "class animal:\n",
    "    def __init__(self,*args):\n",
    "        if len(args)== 1:\n",
    "            self.name=args[0]\n",
    "        elif len(args)==2:\n",
    "            self.name=args[0]   \n",
    "            self.species=args[1]\n",
    "        elif len(args)==3:\n",
    "            self.name=args[0] \n",
    "            self.species=args[1]\n",
    "            self.age=args[2]\n",
    "\n",
    "\n",
    "    def make_sound(self,sound):\n",
    "        return 'The animal is {} and says {}'.format(self.name,sound)\n",
    "    "
   ]
  },
  {
   "cell_type": "code",
   "execution_count": 21,
   "metadata": {},
   "outputs": [
    {
     "name": "stdout",
     "output_type": "stream",
     "text": [
      "dog\n",
      "The animal is dog and says Woof, Woof\n"
     ]
    }
   ],
   "source": [
    "dog = animal('dog',\"mammal\")\n",
    "print(dog.name)\n",
    "print(dog.make_sound('Woof, Woof'))"
   ]
  },
  {
   "cell_type": "code",
   "execution_count": null,
   "metadata": {},
   "outputs": [],
   "source": []
  }
 ],
 "metadata": {
  "kernelspec": {
   "display_name": "Python 3",
   "language": "python",
   "name": "python3"
  },
  "language_info": {
   "codemirror_mode": {
    "name": "ipython",
    "version": 3
   },
   "file_extension": ".py",
   "mimetype": "text/x-python",
   "name": "python",
   "nbconvert_exporter": "python",
   "pygments_lexer": "ipython3",
   "version": "3.11.4"
  }
 },
 "nbformat": 4,
 "nbformat_minor": 2
}
